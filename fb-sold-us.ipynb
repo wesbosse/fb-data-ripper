{
 "cells": [
  {
   "cell_type": "markdown",
   "metadata": {},
   "source": [
    "# Importing libraries"
   ]
  },
  {
   "cell_type": "code",
   "execution_count": 1,
   "metadata": {},
   "outputs": [],
   "source": [
    "import numpy as np\n",
    "import pandas as pd\n",
    "import matplotlib.pyplot as plt\n",
    "import seaborn as sns\n",
    "import requests\n",
    "import codecs\n",
    "\n",
    "from __future__ import division, unicode_literals\n",
    "from bs4 import BeautifulSoup\n",
    "\n",
    "%matplotlib inline"
   ]
  },
  {
   "cell_type": "markdown",
   "metadata": {},
   "source": [
    "# Playing around with the \"Ads\" section"
   ]
  },
  {
   "cell_type": "code",
   "execution_count": 48,
   "metadata": {
    "scrolled": true
   },
   "outputs": [
    {
     "name": "stdout",
     "output_type": "stream",
     "text": [
      "Enter your full name as it appears on your FB profile: Dodge McIntosh\n"
     ]
    }
   ],
   "source": [
    "name = input(\"Enter your full name as it appears on your FB profile: \")\n",
    "username = name.lower().replace(' ', '')"
   ]
  },
  {
   "cell_type": "code",
   "execution_count": 49,
   "metadata": {},
   "outputs": [
    {
     "name": "stdout",
     "output_type": "stream",
     "text": [
      "<html><head><meta content=\"text/html; charset=utf-8\" http-equiv=\"Content-Type\"/><base href=\"../\"/><style type=\"text/css\">/* Copyright 2004-present Facebook. All Rights Reserved. */\n",
      "body {\n",
      "  color: black;\n",
      "  font-family: Arial, sans-serif;\n",
      "  font-size: 11pt;\n",
      "  margin: 15px auto;\n",
      "  width: 860px;\n",
      "}\n",
      "\n",
      ".nav {\n",
      "  float: left;\n",
      "  width: 200px;\n",
      "}\n",
      "\n",
      ".nav ul {\n",
      "  margin: 10px 0 0 0;\n",
      "  padding: 0;\n",
      "}\n",
      "\n",
      ".nav li {\n",
      "  display: block;\n",
      "  font-size: 15px;\n",
      "  list-style: none;\n",
      "  padding: 5px 10px;\n",
      "  width: 160px;\n",
      "}\n",
      "\n",
      ".nav .selected {\n",
      "  background: #EEE;\n",
      "  font-weight: bold;\n",
      "}\n",
      "\n",
      "h1 {\n",
      "  border-bottom: 1px solid #CCC;\n",
      "  padding-bottom: 10px;\n",
      "}\n",
      "\n",
      ".contents {\n",
      "  padding-left: 210px;\n",
      "}\n",
      "\n",
      "a, a:visited {\n",
      "  color: #10208C;\n",
      "  text-decoration: none;\n",
      "}\n",
      "\n",
      ".meta {\n",
      "  color: #888;\n",
      "  font-size: 13px;\n",
      "}\n",
      "\n",
      ".block {\n",
      "  margin: 20px 0;\n",
      "}\n",
      "\n",
      ".warning {\n",
      "  background: #FEE;\n",
      "  border: 1px solid #A00;\n",
      "}\n",
      "\n",
      ".user {\n",
      "  color: #10208C;\n",
      "  margin-right: 4px;\n",
      "}\n",
      "\n",
      ".comment {\n",
      "  background: #EEE;\n",
      "  margin: 5px 0;\n",
      "  padding: 10px;\n",
      "}\n",
      "\n",
      ".thread {\n",
      "  border: 1px solid #CCC;\n",
      "  margin: 0 0 20px 0;\n",
      "  padding: 10px;\n",
      "}\n",
      "\n",
      ".message_header {\n",
      "  border-top: 1px solid #CCC;\n",
      "  margin: 10px 0 0 0;\n",
      "  padding: 10px 0 0 0;\n",
      "}\n",
      "\n",
      ".message_header .meta {\n",
      "  float: right;\n",
      "}\n",
      "\n",
      "ul {\n",
      "  list-style: none;\n",
      "  padding: 0;\n",
      "}\n",
      "\n",
      "th {\n",
      "  font-weight: normal;\n",
      "  padding: 5px 5px;\n",
      "  text-align: left;\n",
      "  vertical-align: top;\n",
      "  width: 150px;\n",
      "}\n",
      "\n",
      "td {\n",
      "  padding: 5px 5px;\n",
      "}\n",
      "\n",
      ".footer {\n",
      "  clear: both;\n",
      "  color: #888;\n",
      "  font-size: 13px;\n",
      "  margin-top: 10px;\n",
      "  text-align: center;\n",
      "}\n",
      "\n",
      ".warning {\n",
      "  color: red;\n",
      "}\n",
      "</style><title>Dodge McIntosh - Ads</title></head><body><div class=\"nav\"><img src=\"photos/profile.jpg\"/><ul><li><a href=\"index.htm\">Profile</a></li><li><a href=\"html/contact_info.htm\">Contact Info</a></li><li><a href=\"html/timeline.htm\">Timeline</a></li><li><a href=\"html/photos.htm\">Photos</a></li><li><a href=\"html/videos.htm\">Videos</a></li><li><a href=\"html/friends.htm\">Friends</a></li><li><a href=\"html/messages.htm\">Messages</a></li><li><a href=\"html/pokes.htm\">Pokes</a></li><li><a href=\"html/events.htm\">Events</a></li><li><a href=\"html/security.htm\">Security</a></li><li class=\"selected\">Ads</li><li><a href=\"html/apps.htm\">Applications</a></li></ul></div><div class=\"contents\"><h1>Dodge McIntosh</h1><h2>Ads Topics</h2><ul><li>Cookie</li><li>UCLA Bruins</li><li>Autism Awareness</li><li>Glacier</li><li>Travel</li><li>Performing arts</li><li>Cats</li><li>2010 United States Census</li><li>WOW air</li><li>San Francisco Bay Area</li><li>Academy</li><li>Lake Tahoe</li><li>Brewery</li><li>All Good Music Festival</li><li>Motivation</li><li>Laboratory</li><li>Music</li><li>Property</li><li>University of California, Los Angeles</li><li>Paul McCartney</li><li>David</li><li>UCLA Bruins men's basketball</li><li>Vevo</li></ul><h2>Ads History</h2><ul><li>How Marvel Characters Will Die In Avengers: Infinity War (According To The Comics) (Clicked Ad) <div class=\"meta\">Monday, March 19, 2018 at 5:54pm PDT</div></li><li>How To Master The Only Skill That Truly Matters (Clicked Ad) <div class=\"meta\">Monday, March 19, 2018 at 6:00pm PDT</div></li><li>Voodoo (Clicked Ad) <div class=\"meta\">Sunday, March 25, 2018 at 8:37am PDT</div></li><li>Amateur Trailer (Clicked Ad) <div class=\"meta\">Saturday, March 31, 2018 at 5:34pm PDT</div></li><li>Which Programming Language to Choose? (Clicked Ad) <div class=\"meta\">Saturday, March 31, 2018 at 5:38pm PDT</div></li></ul><h2>Advertisers with your contact info</h2><ul><li>Fashionshe</li><li>Airbnb</li><li>LinkShe</li><li>Spotify</li><li>LILIGAL</li><li>ROTITA</li><li>Fiverr</li><li>MileIQ</li><li>Airbnb （エアビーアンドビー）</li><li>Ticketmaster</li><li>Rotita</li><li>AutoZone</li><li>Rosewe</li><li>Viking River Cruises</li><li>DataCamp</li><li>Uber Eats</li><li>Viking Ocean Cruises</li></ul></div><div class=\"footer\">Downloaded by Dodge McIntosh on Monday, April 2, 2018 at 12:42pm PDT</div></body></html>\n"
     ]
    }
   ],
   "source": [
    "ads_file = codecs.open(\"facebook-{}/html/ads.htm\".format(username), 'r', 'utf-8')\n",
    "ads_doc = BeautifulSoup(ads_file.read(), \"lxml\")\n",
    "print(ads_doc)"
   ]
  },
  {
   "cell_type": "code",
   "execution_count": 50,
   "metadata": {},
   "outputs": [
    {
     "name": "stdout",
     "output_type": "stream",
     "text": [
      "Facebook thinks you are interested in these 23 topics: \n",
      "\n",
      "['Cookie', 'UCLA Bruins', 'Autism Awareness', 'Glacier', 'Travel', 'Performing arts', 'Cats', '2010 United States Census', 'WOW air', 'San Francisco Bay Area', 'Academy', 'Lake Tahoe', 'Brewery', 'All Good Music Festival', 'Motivation', 'Laboratory', 'Music', 'Property', 'University of California, Los Angeles', 'Paul McCartney', 'David', \"UCLA Bruins men's basketball\", 'Vevo']\n"
     ]
    }
   ],
   "source": [
    "ads_topics = []\n",
    "for topic in ads_doc.find_all('ul')[1]:\n",
    "    ads_topics.append(topic.text)\n",
    "\n",
    "print(\"Facebook thinks you are interested in these {} topics: \\n\\n{}\".format(len(ads_topics), ads_topics))"
   ]
  },
  {
   "cell_type": "code",
   "execution_count": 51,
   "metadata": {},
   "outputs": [
    {
     "name": "stdout",
     "output_type": "stream",
     "text": [
      "According to Facebook, these 17 companies have your contact info: \n",
      "\n",
      "['Fashionshe', 'Airbnb', 'LinkShe', 'Spotify', 'LILIGAL', 'ROTITA', 'Fiverr', 'MileIQ', 'Airbnb （エアビーアンドビー）', 'Ticketmaster', 'Rotita', 'AutoZone', 'Rosewe', 'Viking River Cruises', 'DataCamp', 'Uber Eats', 'Viking Ocean Cruises']\n"
     ]
    }
   ],
   "source": [
    "advertisers = []\n",
    "for company in ads_doc.find_all('ul')[3]:\n",
    "    advertisers.append(company.text)\n",
    "    \n",
    "print(\"According to Facebook, these {} companies have your contact info: \\n\\n{}\".format(len(advertisers), advertisers))"
   ]
  },
  {
   "cell_type": "code",
   "execution_count": null,
   "metadata": {},
   "outputs": [],
   "source": []
  },
  {
   "cell_type": "code",
   "execution_count": null,
   "metadata": {},
   "outputs": [],
   "source": []
  },
  {
   "cell_type": "code",
   "execution_count": null,
   "metadata": {},
   "outputs": [],
   "source": []
  }
 ],
 "metadata": {
  "kernelspec": {
   "display_name": "Python 3",
   "language": "python",
   "name": "python3"
  },
  "language_info": {
   "codemirror_mode": {
    "name": "ipython",
    "version": 3
   },
   "file_extension": ".py",
   "mimetype": "text/x-python",
   "name": "python",
   "nbconvert_exporter": "python",
   "pygments_lexer": "ipython3",
   "version": "3.6.4"
  }
 },
 "nbformat": 4,
 "nbformat_minor": 2
}
