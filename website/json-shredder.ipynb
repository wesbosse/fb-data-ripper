{
 "cells": [
  {
   "cell_type": "code",
   "execution_count": 7,
   "metadata": {},
   "outputs": [],
   "source": [
    "from os import walk\n",
    "import json\n",
    "import zipfile\n",
    "\n",
    "def extract_zip():\n",
    "    with zipfile.ZipFile(\"data.zip\",\"r\") as zip_ref:\n",
    "        zip_ref.extractall('data')\n",
    "    \n",
    "def ads_data_extractor():\n",
    "    with open('data/ads/ads_interests.json') as f:\n",
    "        data = json.load(f)\n",
    "        print(data)\n",
    "    \n",
    "# ads_data_extractor()\n",
    "\n",
    "mypath = 'data'\n",
    "\n",
    "f = []\n",
    "for (dirpath, dirnames, filenames) in walk(mypath):\n",
    "    print(dirpath, dirnames, filenames)\n",
    "    print(1)"
   ]
  },
  {
   "cell_type": "code",
   "execution_count": null,
   "metadata": {},
   "outputs": [],
   "source": []
  }
 ],
 "metadata": {
  "kernelspec": {
   "display_name": "Python 3",
   "language": "python",
   "name": "python3"
  },
  "language_info": {
   "codemirror_mode": {
    "name": "ipython",
    "version": 3
   },
   "file_extension": ".py",
   "mimetype": "text/x-python",
   "name": "python",
   "nbconvert_exporter": "python",
   "pygments_lexer": "ipython3",
   "version": "3.6.4"
  }
 },
 "nbformat": 4,
 "nbformat_minor": 2
}
